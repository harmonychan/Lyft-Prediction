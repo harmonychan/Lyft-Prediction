{
  "nbformat": 4,
  "nbformat_minor": 0,
  "metadata": {
    "colab": {
      "name": "team_0_report.ipynb",
      "provenance": [],
      "collapsed_sections": []
    },
    "kernelspec": {
      "display_name": "Python 3",
      "language": "python",
      "name": "python3"
    }
  },
  "cells": [
    {
      "cell_type": "markdown",
      "metadata": {
        "id": "SkoCO6vuElhK"
      },
      "source": [
        "# DS3000 Final Project:  Lyft Price Prediction\n",
        "## Team 0\n",
        "\n",
        "- Aryan Shah (shah.ary@northeastern.edu)\n",
        "- Thomas Nguyen (nguyen.thomas@northeastern.edu)\n",
        "- Yu-Ting Ger (ger.y@northeastern.edu)\n",
        "- Harmony Chan (chan.ha@northeastern.edu)\n",
        "\n",
        "#### Reuse Permissions\n",
        "The following may be re-used for any purposes:\n",
        "- all data included with submission\n",
        "- all images\n",
        "- this and other jupyter notebooks\n",
        "- the associated [video presentation](todo:addlink)\n",
        "\n",
        "Please attribute any work to the authors listed above."
      ]
    },
    {
      "cell_type": "markdown",
      "metadata": {
        "id": "-LRSpmCRElhT"
      },
      "source": [
        "# Executive Summary\n",
        "We built a model to predict prices of Lyft rides within Boston based on weather conditions of the pick-up location, the time when the ride request is made, and the total distance of the ride. We first used Random Forest Classifiers to determine if price buckets were significant enough and afterwards, used a multivariable polynomial regression model to predict a specific price of the lyft ride. Distance, ride type, and surge multiplier played the biggest role in affecting price in contrast to features such as temperature, weather, weekday, and hours that had little effect. Overall, our analysis does give some insight to potential lyft riders, but would not recommend using to try to convince a lyft rider to order a ride.\n",
        "\n",
        "**Needs to be completed**"
      ]
    },
    {
      "cell_type": "markdown",
      "metadata": {
        "id": "vgK6P-5nElhT"
      },
      "source": [
        "# Ethical Considerations\n",
        "\n",
        "By knowing the effects of weather conditions and the time of ride request on the price of Lyft rides, consumers can take advantage of this knowledge and request a ride from Lyft only when the prices are lower. This could potentially harm Lyft drivers who are depending on price surges to increase their earnings. This tool may also be used by Lyft's competitors to come up with a specfic pricing algorithm against them. This can be done by setting their prices to be slightly lower than Lyft's so that consumers will be driven to their service. To address this, any use of this work should be open-source and approved by the developers to avoid unfair competitions."
      ]
    },
    {
      "cell_type": "markdown",
      "metadata": {
        "id": "UfXgj2P7ElhU"
      },
      "source": [
        "# Introduction\n",
        "Society has seen the recent rise of ride-sharing apps such as Lyft as they pull in more and more users.\n",
        "This is due to the conveince of service, where people can get a quick ride just from a couple of taps on their phone.\n",
        "However, there are times where rides are more expensive than normal or when availability is lower than expected. This begs a simple question: Why? More specfically, what exactly drives demand and prices? **This project aims to predict the price of Lyft rides in Boston based on weather conditions, ride distances, and time of ride request.**"
      ]
    },
    {
      "cell_type": "markdown",
      "metadata": {
        "id": "IX2RuzQgElhU"
      },
      "source": [
        "# Data Description\n",
        "\n",
        "(Full details of lyft data can be found in `lyft_clean.ipynb`, a summary of the relevant details is given here).\n",
        "\n",
        "### Geocode \n",
        "First, we collect geocodes (latitude and longitude) of locations for lyft ride cost estimation from the [Position Stack API](https://positionstack.com/documentation). Provided a list of locations, the result is a dictionary mapping location names to geocode."
      ]
    },
    {
      "cell_type": "code",
      "metadata": {
        "id": "OoUomK2rElhV",
        "outputId": "f179e396-e86e-4d89-98c1-031df6523f75"
      },
      "source": [
        "import pandas as pd\n",
        "df_geo = pd.read_csv('latlon.csv', index_col=0)\n",
        "\n",
        "latlon_dict = dict()\n",
        "for index, row in df_geo.iterrows():\n",
        "    latlon_dict[index] = (row['lat'], row['lon'])\n",
        "\n",
        "latlon_dict"
      ],
      "execution_count": null,
      "outputs": [
        {
          "output_type": "execute_result",
          "data": {
            "text/plain": [
              "{'Northeastern University': (42.339439, -71.087588),\n",
              " 'Mission Hill': (42.333566, -71.102311),\n",
              " 'Back Bay': (42.351838, -71.080507),\n",
              " 'Fenway': (42.34947, -71.099199),\n",
              " 'Lower Roxbury': (42.322451, -71.083092),\n",
              " 'Kendall Square': (42.355492, -71.048611),\n",
              " 'Chinatown': (42.35068, -71.06283),\n",
              " 'Cambridge': (42.38036, -71.115987),\n",
              " 'Brookline': (42.322764, -71.141356),\n",
              " 'North End': (42.364354, -71.054749)}"
            ]
          },
          "metadata": {
            "tags": []
          },
          "execution_count": 1
        }
      ]
    },
    {
      "cell_type": "markdown",
      "metadata": {
        "id": "NAj93lFgElhW"
      },
      "source": [
        "### Lyft Ride Cost Estimation\n",
        "Using the [Lyft API](https://www.lyft.com/developers/products/ride-request) we were able to request for estimated price cost at the current/immediate time instance by providing the latitude and longitude of the source and destination. "
      ]
    },
    {
      "cell_type": "code",
      "metadata": {
        "id": "VruAbCjaElhW",
        "outputId": "5c46ccd0-962a-49ab-c3dc-bc5e4a8551db"
      },
      "source": [
        "columns_list = ['date', 'hour', 'source', 'destination',\n",
        "               'ride_type', 'distance_km', 'duration', 'price']\n",
        "\n",
        "df_lyft = pd.read_csv('final_lyft_rides.csv')\n",
        "df_lyft.loc[:, columns_list].head()"
      ],
      "execution_count": null,
      "outputs": [
        {
          "output_type": "execute_result",
          "data": {
            "text/html": [
              "<div>\n",
              "<style scoped>\n",
              "    .dataframe tbody tr th:only-of-type {\n",
              "        vertical-align: middle;\n",
              "    }\n",
              "\n",
              "    .dataframe tbody tr th {\n",
              "        vertical-align: top;\n",
              "    }\n",
              "\n",
              "    .dataframe thead th {\n",
              "        text-align: right;\n",
              "    }\n",
              "</style>\n",
              "<table border=\"1\" class=\"dataframe\">\n",
              "  <thead>\n",
              "    <tr style=\"text-align: right;\">\n",
              "      <th></th>\n",
              "      <th>date</th>\n",
              "      <th>hour</th>\n",
              "      <th>source</th>\n",
              "      <th>destination</th>\n",
              "      <th>ride_type</th>\n",
              "      <th>distance_km</th>\n",
              "      <th>duration</th>\n",
              "      <th>price</th>\n",
              "    </tr>\n",
              "  </thead>\n",
              "  <tbody>\n",
              "    <tr>\n",
              "      <th>0</th>\n",
              "      <td>2021-04-18</td>\n",
              "      <td>21.0</td>\n",
              "      <td>Northeastern University</td>\n",
              "      <td>Mission Hill</td>\n",
              "      <td>Lyft</td>\n",
              "      <td>1.375127</td>\n",
              "      <td>7.95</td>\n",
              "      <td>9.0</td>\n",
              "    </tr>\n",
              "    <tr>\n",
              "      <th>1</th>\n",
              "      <td>2021-04-18</td>\n",
              "      <td>21.0</td>\n",
              "      <td>Northeastern University</td>\n",
              "      <td>Mission Hill</td>\n",
              "      <td>Lyft XL</td>\n",
              "      <td>1.375127</td>\n",
              "      <td>7.95</td>\n",
              "      <td>13.5</td>\n",
              "    </tr>\n",
              "    <tr>\n",
              "      <th>2</th>\n",
              "      <td>2021-04-18</td>\n",
              "      <td>21.0</td>\n",
              "      <td>Northeastern University</td>\n",
              "      <td>Mission Hill</td>\n",
              "      <td>Lux</td>\n",
              "      <td>1.375127</td>\n",
              "      <td>7.95</td>\n",
              "      <td>13.5</td>\n",
              "    </tr>\n",
              "    <tr>\n",
              "      <th>3</th>\n",
              "      <td>2021-04-18</td>\n",
              "      <td>21.0</td>\n",
              "      <td>Northeastern University</td>\n",
              "      <td>Mission Hill</td>\n",
              "      <td>Lux Black</td>\n",
              "      <td>1.375127</td>\n",
              "      <td>7.95</td>\n",
              "      <td>19.5</td>\n",
              "    </tr>\n",
              "    <tr>\n",
              "      <th>4</th>\n",
              "      <td>2021-04-18</td>\n",
              "      <td>21.0</td>\n",
              "      <td>Northeastern University</td>\n",
              "      <td>Mission Hill</td>\n",
              "      <td>Lux Black XL</td>\n",
              "      <td>1.375127</td>\n",
              "      <td>7.95</td>\n",
              "      <td>26.0</td>\n",
              "    </tr>\n",
              "  </tbody>\n",
              "</table>\n",
              "</div>"
            ],
            "text/plain": [
              "         date  hour                   source   destination     ride_type  \\\n",
              "0  2021-04-18  21.0  Northeastern University  Mission Hill          Lyft   \n",
              "1  2021-04-18  21.0  Northeastern University  Mission Hill       Lyft XL   \n",
              "2  2021-04-18  21.0  Northeastern University  Mission Hill           Lux   \n",
              "3  2021-04-18  21.0  Northeastern University  Mission Hill     Lux Black   \n",
              "4  2021-04-18  21.0  Northeastern University  Mission Hill  Lux Black XL   \n",
              "\n",
              "   distance_km  duration  price  \n",
              "0     1.375127      7.95    9.0  \n",
              "1     1.375127      7.95   13.5  \n",
              "2     1.375127      7.95   13.5  \n",
              "3     1.375127      7.95   19.5  \n",
              "4     1.375127      7.95   26.0  "
            ]
          },
          "metadata": {
            "tags": []
          },
          "execution_count": 2
        }
      ]
    },
    {
      "cell_type": "markdown",
      "metadata": {
        "id": "ScqkJwWaElhX"
      },
      "source": [
        "### Weather Data\n",
        "\n",
        "Then we grab weather data from [Open Weather API](https://openweathermap.org/api) at the same time of the lyft ride cost estimation."
      ]
    },
    {
      "cell_type": "code",
      "metadata": {
        "id": "IO-mKELRElhX",
        "scrolled": false,
        "outputId": "480ccb0b-65fa-4e53-8705-e1a16a23bfc2"
      },
      "source": [
        "weather_cols = ['date', 'hour', 'temp_fahren', 'weather', \n",
        "                'rain_volume_mm', 'snow_volume_mm']\n",
        "\n",
        "df_lyft.loc[:, weather_cols].head()"
      ],
      "execution_count": null,
      "outputs": [
        {
          "output_type": "execute_result",
          "data": {
            "text/html": [
              "<div>\n",
              "<style scoped>\n",
              "    .dataframe tbody tr th:only-of-type {\n",
              "        vertical-align: middle;\n",
              "    }\n",
              "\n",
              "    .dataframe tbody tr th {\n",
              "        vertical-align: top;\n",
              "    }\n",
              "\n",
              "    .dataframe thead th {\n",
              "        text-align: right;\n",
              "    }\n",
              "</style>\n",
              "<table border=\"1\" class=\"dataframe\">\n",
              "  <thead>\n",
              "    <tr style=\"text-align: right;\">\n",
              "      <th></th>\n",
              "      <th>date</th>\n",
              "      <th>hour</th>\n",
              "      <th>temp_fahren</th>\n",
              "      <th>weather</th>\n",
              "      <th>rain_volume_mm</th>\n",
              "      <th>snow_volume_mm</th>\n",
              "    </tr>\n",
              "  </thead>\n",
              "  <tbody>\n",
              "    <tr>\n",
              "      <th>0</th>\n",
              "      <td>2021-04-18</td>\n",
              "      <td>21.0</td>\n",
              "      <td>49.12</td>\n",
              "      <td>Clouds</td>\n",
              "      <td>0.0</td>\n",
              "      <td>0.0</td>\n",
              "    </tr>\n",
              "    <tr>\n",
              "      <th>1</th>\n",
              "      <td>2021-04-18</td>\n",
              "      <td>21.0</td>\n",
              "      <td>49.12</td>\n",
              "      <td>Clouds</td>\n",
              "      <td>0.0</td>\n",
              "      <td>0.0</td>\n",
              "    </tr>\n",
              "    <tr>\n",
              "      <th>2</th>\n",
              "      <td>2021-04-18</td>\n",
              "      <td>21.0</td>\n",
              "      <td>49.12</td>\n",
              "      <td>Clouds</td>\n",
              "      <td>0.0</td>\n",
              "      <td>0.0</td>\n",
              "    </tr>\n",
              "    <tr>\n",
              "      <th>3</th>\n",
              "      <td>2021-04-18</td>\n",
              "      <td>21.0</td>\n",
              "      <td>49.12</td>\n",
              "      <td>Clouds</td>\n",
              "      <td>0.0</td>\n",
              "      <td>0.0</td>\n",
              "    </tr>\n",
              "    <tr>\n",
              "      <th>4</th>\n",
              "      <td>2021-04-18</td>\n",
              "      <td>21.0</td>\n",
              "      <td>49.12</td>\n",
              "      <td>Clouds</td>\n",
              "      <td>0.0</td>\n",
              "      <td>0.0</td>\n",
              "    </tr>\n",
              "  </tbody>\n",
              "</table>\n",
              "</div>"
            ],
            "text/plain": [
              "         date  hour  temp_fahren weather  rain_volume_mm  snow_volume_mm\n",
              "0  2021-04-18  21.0        49.12  Clouds             0.0             0.0\n",
              "1  2021-04-18  21.0        49.12  Clouds             0.0             0.0\n",
              "2  2021-04-18  21.0        49.12  Clouds             0.0             0.0\n",
              "3  2021-04-18  21.0        49.12  Clouds             0.0             0.0\n",
              "4  2021-04-18  21.0        49.12  Clouds             0.0             0.0"
            ]
          },
          "metadata": {
            "tags": []
          },
          "execution_count": 3
        }
      ]
    },
    {
      "cell_type": "markdown",
      "metadata": {
        "id": "zEcWM1RvElhY"
      },
      "source": [
        "### Kaggle Dataset\n",
        "\n",
        "After running the pipeline to gather data, we figured that the correlations between price and other features weren't as interesting as expected. Therefore, we decided to use a [Kaggle dataset](https://www.kaggle.com/brllrb/uber-and-lyft-dataset-boston-ma) that collected data over a wider range of time and recorded similar features for lyft rides in December 2018 to cotinue with our analysis. The Kaggle dataset was cleaned and modified to include features that we are interested in and the full details can be found in `kaggle_clean_data.ipynb`."
      ]
    },
    {
      "cell_type": "code",
      "metadata": {
        "id": "IH7c6STFElhY",
        "outputId": "a20a5eb7-c516-461d-ef15-6043ca50bed3"
      },
      "source": [
        "df_lyft_kaggle = pd.read_csv('lyft_rides.csv', index_col=0)\n",
        "df_lyft_kaggle.head()"
      ],
      "execution_count": null,
      "outputs": [
        {
          "output_type": "execute_result",
          "data": {
            "text/html": [
              "<div>\n",
              "<style scoped>\n",
              "    .dataframe tbody tr th:only-of-type {\n",
              "        vertical-align: middle;\n",
              "    }\n",
              "\n",
              "    .dataframe tbody tr th {\n",
              "        vertical-align: top;\n",
              "    }\n",
              "\n",
              "    .dataframe thead th {\n",
              "        text-align: right;\n",
              "    }\n",
              "</style>\n",
              "<table border=\"1\" class=\"dataframe\">\n",
              "  <thead>\n",
              "    <tr style=\"text-align: right;\">\n",
              "      <th></th>\n",
              "      <th>destination</th>\n",
              "      <th>distance_km</th>\n",
              "      <th>hours</th>\n",
              "      <th>precip_intensity</th>\n",
              "      <th>precip_probability</th>\n",
              "      <th>price</th>\n",
              "      <th>ride_type</th>\n",
              "      <th>source</th>\n",
              "      <th>surge_multiplier</th>\n",
              "      <th>temp_fahren</th>\n",
              "      <th>weekday</th>\n",
              "    </tr>\n",
              "  </thead>\n",
              "  <tbody>\n",
              "    <tr>\n",
              "      <th>0</th>\n",
              "      <td>North Station</td>\n",
              "      <td>0.44</td>\n",
              "      <td>9</td>\n",
              "      <td>0.0000</td>\n",
              "      <td>0.0</td>\n",
              "      <td>5.0</td>\n",
              "      <td>Shared</td>\n",
              "      <td>Haymarket Square</td>\n",
              "      <td>1.0</td>\n",
              "      <td>42.34</td>\n",
              "      <td>6</td>\n",
              "    </tr>\n",
              "    <tr>\n",
              "      <th>1</th>\n",
              "      <td>North Station</td>\n",
              "      <td>0.44</td>\n",
              "      <td>2</td>\n",
              "      <td>0.1299</td>\n",
              "      <td>1.0</td>\n",
              "      <td>11.0</td>\n",
              "      <td>Lux</td>\n",
              "      <td>Haymarket Square</td>\n",
              "      <td>1.0</td>\n",
              "      <td>43.58</td>\n",
              "      <td>1</td>\n",
              "    </tr>\n",
              "    <tr>\n",
              "      <th>2</th>\n",
              "      <td>North Station</td>\n",
              "      <td>0.44</td>\n",
              "      <td>1</td>\n",
              "      <td>0.0000</td>\n",
              "      <td>0.0</td>\n",
              "      <td>7.0</td>\n",
              "      <td>Lyft</td>\n",
              "      <td>Haymarket Square</td>\n",
              "      <td>1.0</td>\n",
              "      <td>38.33</td>\n",
              "      <td>2</td>\n",
              "    </tr>\n",
              "    <tr>\n",
              "      <th>3</th>\n",
              "      <td>North Station</td>\n",
              "      <td>0.44</td>\n",
              "      <td>4</td>\n",
              "      <td>0.0000</td>\n",
              "      <td>0.0</td>\n",
              "      <td>26.0</td>\n",
              "      <td>Lux Black XL</td>\n",
              "      <td>Haymarket Square</td>\n",
              "      <td>1.0</td>\n",
              "      <td>34.38</td>\n",
              "      <td>4</td>\n",
              "    </tr>\n",
              "    <tr>\n",
              "      <th>4</th>\n",
              "      <td>North Station</td>\n",
              "      <td>0.44</td>\n",
              "      <td>3</td>\n",
              "      <td>0.0000</td>\n",
              "      <td>0.0</td>\n",
              "      <td>9.0</td>\n",
              "      <td>Lyft XL</td>\n",
              "      <td>Haymarket Square</td>\n",
              "      <td>1.0</td>\n",
              "      <td>37.44</td>\n",
              "      <td>3</td>\n",
              "    </tr>\n",
              "  </tbody>\n",
              "</table>\n",
              "</div>"
            ],
            "text/plain": [
              "     destination  distance_km  hours  precip_intensity  precip_probability  \\\n",
              "0  North Station         0.44      9            0.0000                 0.0   \n",
              "1  North Station         0.44      2            0.1299                 1.0   \n",
              "2  North Station         0.44      1            0.0000                 0.0   \n",
              "3  North Station         0.44      4            0.0000                 0.0   \n",
              "4  North Station         0.44      3            0.0000                 0.0   \n",
              "\n",
              "   price     ride_type            source  surge_multiplier  temp_fahren  \\\n",
              "0    5.0        Shared  Haymarket Square               1.0        42.34   \n",
              "1   11.0           Lux  Haymarket Square               1.0        43.58   \n",
              "2    7.0          Lyft  Haymarket Square               1.0        38.33   \n",
              "3   26.0  Lux Black XL  Haymarket Square               1.0        34.38   \n",
              "4    9.0       Lyft XL  Haymarket Square               1.0        37.44   \n",
              "\n",
              "   weekday  \n",
              "0        6  \n",
              "1        1  \n",
              "2        2  \n",
              "3        4  \n",
              "4        3  "
            ]
          },
          "metadata": {
            "tags": []
          },
          "execution_count": 4
        }
      ]
    },
    {
      "cell_type": "markdown",
      "metadata": {
        "id": "8N0GCrcSElhY"
      },
      "source": [
        "# Method\n",
        "\n",
        "We have chosen ML tools and methods that would help best predict the price of a lyft ride, given a multitude of factors (both external and internal lyft features). The best way we thought going about this was to use ML classifiers to determine which features were the most significant in determine price of the lyft ride. From there, we would apply regression to estimate the price of the lyft ride.\n",
        "\n"
      ]
    },
    {
      "cell_type": "markdown",
      "metadata": {
        "id": "BOSHAfGU9qYA"
      },
      "source": [
        "### Converting ```price``` to a categorical variable\n",
        "\n",
        "To classify the order of significance for each feature against price, we first categorized the price of a lyft ride into price buckets. This is imperative as the virtue of being a classifier signifies estimation of a categorical variable. As our target variable is price, we approximate binning by creating a price_bucket which lyft rides fall under. \n"
      ]
    },
    {
      "cell_type": "code",
      "metadata": {
        "id": "Y6P87eCrBZET"
      },
      "source": [
        "def add_price_bucket(df_rideshare):\n",
        "    \"\"\" converts price column to a price bucket range \n",
        "    \n",
        "    Args:\n",
        "        df_rideshare (DataFrame): DataFrame of lyft rides data\n",
        "    \"\"\"\n",
        "    \n",
        "    price_buckets = []\n",
        "    \n",
        "    for index, row in df_rideshare.iterrows():\n",
        "        if row['price'] < 10:\n",
        "            price_buckets.append('price < 10')\n",
        "        elif row['price'] < 20:\n",
        "            price_buckets.append('10 <= price < 20')\n",
        "        elif row['price'] < 30:\n",
        "            price_buckets.append('20 <= price < 30')\n",
        "        else:\n",
        "            price_buckets.append('price >= 30')\n",
        "    \n",
        "    df_rideshare['price_bucket'] = price_buckets\n",
        "    \n",
        "    del df_rideshare['price']"
      ],
      "execution_count": null,
      "outputs": []
    },
    {
      "cell_type": "markdown",
      "metadata": {
        "id": "QOYClQQm3Rur"
      },
      "source": [
        "### Normalization by Standard Deviation\n",
        "\n",
        "A common problem like many ML models run into is the different input features having different variances.\n",
        "\n"
      ]
    },
    {
      "cell_type": "code",
      "metadata": {
        "colab": {
          "base_uri": "https://localhost:8080/"
        },
        "id": "frvt4y1SBwvA",
        "outputId": "1f90603e-35ce-47a2-8a17-14e84f5fa725"
      },
      "source": [
        "import pandas as pd\n",
        "\n",
        "x_feat_list = ['distance_km', 'hours', 'precip_intensity', 'precip_probability', \n",
        "            'surge_multiplier', 'temp_fahren', 'weekday', 'ride_type_Lux',\n",
        "              'ride_type_Lux Black', 'ride_type_Lux Black XL', 'ride_type_Lyft', \n",
        "               'ride_type_Lyft XL', 'ride_type_Shared']\n",
        "\n",
        "df_lyft = pd.read_csv('lyft_rides_numerical.csv')\n",
        "\n",
        "df_lyft.loc[:, x_feat_list].var().sort_values()"
      ],
      "execution_count": null,
      "outputs": [
        {
          "output_type": "execute_result",
          "data": {
            "text/plain": [
              "precip_intensity           0.000719\n",
              "surge_multiplier           0.018390\n",
              "precip_probability         0.107665\n",
              "ride_type_Shared           0.138886\n",
              "ride_type_Lux Black XL     0.138890\n",
              "ride_type_Lux Black        0.138890\n",
              "ride_type_Lux              0.138890\n",
              "ride_type_Lyft XL          0.138890\n",
              "ride_type_Lyft             0.138890\n",
              "distance_km                1.180747\n",
              "weekday                    4.229725\n",
              "temp_fahren               45.298619\n",
              "hours                     48.381126\n",
              "dtype: float64"
            ]
          },
          "metadata": {
            "tags": []
          },
          "execution_count": 9
        }
      ]
    },
    {
      "cell_type": "markdown",
      "metadata": {
        "id": "la-ErdR7G72M"
      },
      "source": [
        "Therefore, to ensure that the output features have equal variances, we applied standard deviation to normalize the input features. This ensures each feature has unit variance. This also ensures accurate representation in classifying feature significance."
      ]
    },
    {
      "cell_type": "code",
      "metadata": {
        "id": "jN09KLbnHwxh"
      },
      "source": [
        "def normalize_x_feat(df_rideshare, x_feat_list):\n",
        "    \"\"\" normalizes the x features through standard deviation\n",
        "    \n",
        "    Args\n",
        "        df_rideshare (DataFrame): DataFrame of lyft rides data\n",
        "        x_feat_list (list): list of x features that are used to predict y\n",
        "    \"\"\"\n",
        "    \n",
        "    # normalizes scale\n",
        "    for feat in x_feat_list:\n",
        "        df_rideshare[feat] = df_rideshare[feat] / df_rideshare[feat].std()"
      ],
      "execution_count": null,
      "outputs": []
    },
    {
      "cell_type": "markdown",
      "metadata": {
        "id": "mMctNihe1omT"
      },
      "source": [
        "## Classifiers\n",
        "Classifiers are important in determining which feature is best used to determine the price of a lyft ride. Since there are many input features that are being used to predict price, we first needed to check if the input features are significant enough to estimate price. This will be especially useful in determining whether or not the input features are relevant to price before applying a regression as a predictor model. \n",
        "\n",
        "### Random Forest Classifier\n",
        "We used random forest classifier to classify the significance of the input features against price. We chose Random Forest Classifier over Decision Trees or any other classifier as it is not only less prone to overfitting, it is most accurate in classifying the significance of the input features. Since we are assuming there are no major outlier samples or mislabeled samples in our dataset, we expect the Random Forest to not allow overfitting to occur. We are allowed to assume this as the Lyft API that has a column from its response (```is_valid_estimate```) which verifies if the price estimation is valid or not and using this column, we filtered the DataFrame out rows that were not a valid price estimate in ```lyft_clean.ipynb```. Using this classifier, we are then able to determine that the input features we chose were significant enough to apply a regression model on."
      ]
    },
    {
      "cell_type": "markdown",
      "metadata": {
        "id": "1cMMIDtj921K"
      },
      "source": [
        "## Regression\n",
        "Regression is perfect for providing estimation on price of the lyft rides, given input features that have been determined to be relevant. From the prior ML tools that help classify how signifcant the lyft features are with the price buckets, regression would provide a predictive model with those determined significant features. This would give lyft users to have further insight from not only which factors they can keep in mind when estimating a lyft ride price, but also a rough estimation of how those features determine the calcuation of that price.\n",
        "\n",
        "### Multivariable Polynomial Regression\n",
        "Multivariable Polynomial Regression (MPR) is a regression model that is constructed from multidimensional data (multiple independent variables) to calculate the dependent variable (and in our case, the cost of a lyft rideshare). We chose this method as it allows us to test more than one x input feature against price as well the polynomial degree that best fits our data. We would perform MPR on different number of polynomial degrees to determine which degree best produces an accurate r^2 value without overfitting. Then, using MPR with the chosen degree, we cross-validated its r^2 value to determine the accuracy of the model. If the accuracy is high enough, we can then conclude that the given input features can be used to help estimate the price of a lyft ride to an extent. MPR is also helpful as it allows the user to know which input feature has more significance in impacting the price of the lyft ride compared to the others. This would allow people to take into consideration different weights that each input feature carries. However, one small limitation is that this regression model does not take into consideration outliers that could have affected the accuracy of the model. This also does not take into consideration other potential factors like seasonal change or one-off events (a very popular concert can lead to price being jacked up at the given time and place). However, we believe that this is acceptable enough for Boston residents to roughly estimate the cost of their lyft ride on a normal day."
      ]
    },
    {
      "cell_type": "markdown",
      "metadata": {
        "id": "ddECQlIfElhZ"
      },
      "source": [
        "# Results\n",
        "Apply the ML method(s) of your choice and graph results.  Be sure to explain the meaning of the graph in simple terms while avoiding interpreting the result in the context of the application just yet.  Please include:\n",
        "- At least one graph of your ML results.  All graphs should be “self-contained” in that the title, axis labels, legend, caption or other graph elements are sufficient to understand the meaning of the graph without referring to the text of the document.  \n",
        "- Beautiful software which is clearly documented and elegantly implemented"
      ]
    },
    {
      "cell_type": "markdown",
      "metadata": {
        "id": "uOV-Fond7iG1"
      },
      "source": [
        "### Random Forest Classifier - Sanity Check and Feature Importance"
      ]
    },
    {
      "cell_type": "code",
      "metadata": {
        "id": "VtOy9HYN7iG1"
      },
      "source": [
        "import numpy as np\n",
        "from sklearn.ensemble import RandomForestClassifier\n",
        "from sklearn.model_selection import StratifiedKFold\n",
        "\n",
        "def feature_importance_from_rf(df_lyft_buckets, x_feat_list, y_feat):\n",
        "    '''\n",
        "    Use a random forests classfier in order to gain an insight into\n",
        "    the importance of each feature(based on gini importance) in the lyft dataset(x_feat_list) \n",
        "    in predicting the price bucket(y_feat) of a lyft ride.\n",
        "    \n",
        "    Args:\n",
        "        df_lyft_buckets (DataFrame): A pandas df with the lyft ride data and an additional\n",
        "            column that categorises a ride into a price bucket\n",
        "        x_feat_list (list): A list of features to be used to fit the Random Forests model\n",
        "        y_feat (String): The column to predict\n",
        "    \n",
        "    Returns:\n",
        "        rf_clf (RandomForestClassifier): The fitted Random Forests Classifier\n",
        "        feat_importances (numpy array): The feature importance of every feature the model was trained on\n",
        "    '''\n",
        "    # Extract the x and y features for every row as numpy arrays \n",
        "    x = df_lyft_buckets.loc[:, x_feat_list].values\n",
        "    y = df_lyft_buckets.loc[:, y_feat].values\n",
        "    \n",
        "    # Fit the Random Forest Regressor\n",
        "    rf_clf = RandomForestClassifier()\n",
        "    rf_clf.fit(x, y)\n",
        "    \n",
        "    # Get the feature importance(optimised reduction in gini impurity)\n",
        "    feat_importances = rf_clf.feature_importances_\n",
        "    \n",
        "    return rf_clf, feat_importances\n",
        "\n",
        "def cross_validate_rf(df_lyft_buckets, x_feat_list, y_feat):\n",
        "    '''\n",
        "    Use the 10 fold cross validation to compute the accracy of a Random Forests classfier \n",
        "    predicting the price bucket(y) of a lyft ride based on the given feature list.\n",
        "    \n",
        "    Args:\n",
        "        df_lyft_buckets (DataFrame): A pandas df with the lyft ride data and an additional\n",
        "            column that categorises a ride into a price bucket\n",
        "        x_feat_list (list): A list of features to be used to fit the Random Forests model\n",
        "        y_feat (String): The column to predict\n",
        "    \n",
        "    Returns:\n",
        "        rf_clf (RandomForestClassifier): The cross validated and trained Random Forests\n",
        "            classifier\n",
        "        y_true (numpy array): A numpy array with the true y_feat values\n",
        "        y_pred (numpy array): A numpy array with the predicted y_feat values using the 10 fold\n",
        "            cross validated RandomForests classifier\n",
        "    '''\n",
        "    # Extract the x and y features for every row as numpy arrays \n",
        "    x = df_lyft_buckets.loc[:, x_feat_list].values\n",
        "    y_true = df_lyft_buckets.loc[:, y_feat].values\n",
        "    rf_clf = RandomForestClassifier()\n",
        "\n",
        "    # Perform stratified 10 fold cross validation\n",
        "    skf = StratifiedKFold(n_splits=10)\n",
        "    y_pred = np.empty_like(y_true)\n",
        "    \n",
        "    for train_idx, test_idx in skf.split(x, y_true):\n",
        "        # Extract the training and testing data for the current fold\n",
        "        train_x, train_y = x[train_idx, :], y_true[train_idx]\n",
        "        test_x, test_y = x[test_idx, :], y_true[test_idx]\n",
        "\n",
        "        # Train the model with the training data and then test it on the testing data\n",
        "        rf_clf.fit(train_x, train_y)\n",
        "        y_pred[test_idx] = rf_clf.predict(test_x)\n",
        "    \n",
        "    return rf_clf, y_true, y_pred"
      ],
      "execution_count": null,
      "outputs": []
    },
    {
      "cell_type": "markdown",
      "metadata": {
        "id": "7ND2oqo57iG1"
      },
      "source": [
        "#### Accurancy of Random Forests in Predicting Price Buckets\n",
        "Visualizing the confusion matrix to gain an insight into the accuracy of predicting lyft ride price buckets using a Random Forest classfier."
      ]
    },
    {
      "cell_type": "code",
      "metadata": {
        "id": "qVK_0B5f7iG2"
      },
      "source": [
        "from sklearn.metrics import confusion_matrix, ConfusionMatrixDisplay, r2_score\n",
        "\n",
        "def plot_confusion_matrix(y_true, y_pred):\n",
        "    '''\n",
        "    Plot the confusion matrix given the predicted and true values of a feature.\n",
        "    Compute the accuracy of the classifier from the matrix and add it to the title.\n",
        "    \n",
        "    Args:\n",
        "        y_true (numpy array): The true values of a feature\n",
        "        y_pred (numpy array): The predicted values of a feature\n",
        "    \n",
        "    Returns:\n",
        "        conf_mat (2D numpy array): The confusion matrix visualized\n",
        "    '''\n",
        "    # Computing the confusion matrix and the accuracy of the model\n",
        "    conf_mat = confusion_matrix(y_true=y_true, y_pred=y_pred)\n",
        "    accuracy = compute_accuracy(conf_mat)\n",
        "\n",
        "    # Displaying the confusion matrix\n",
        "    conf_mat_disp = ConfusionMatrixDisplay(conf_mat, display_labels=np.unique(y_true))\n",
        "    conf_mat_disp.plot()\n",
        "    plt.title(f'Predicting lyft price buckets using Random Forests CLF: Acc = {accuracy:.2f}')\n",
        "    plt.gcf().set_size_inches(10, 10)\n",
        "    plt.show()\n",
        "    \n",
        "    return conf_mat\n",
        "\n",
        "def compute_accuracy(conf_matrix):\n",
        "    '''\n",
        "    Computes the accuracy of a classifier based on the given\n",
        "    confusion matrix(propotion of all samples correctly predicted).\n",
        "    \n",
        "    Args:\n",
        "        conf_matrix (numpy 2D array): The confusion matrix used to compute \n",
        "            the accuracy of the classifier\n",
        "    \n",
        "    Returns:\n",
        "        accuracy (float): The accuracy of a classifier based on the confusion\n",
        "            matrix provided\n",
        "    '''\n",
        "    correct_predictions = np.diag(conf_matrix).sum()\n",
        "    total_predictions = conf_matrix.sum()\n",
        "    accuracy = correct_predictions / total_predictions\n",
        "    return accuracy"
      ],
      "execution_count": null,
      "outputs": []
    },
    {
      "cell_type": "code",
      "metadata": {
        "id": "Yxe8ABdv7iG2"
      },
      "source": [
        "import pandas as pd\n",
        "\n",
        "# Load cleaned and normalized lyft df with price buckets and init x_feat_list and y_feat\n",
        "df_lyft_buckets = pd.read_csv('lyft_rides_numerical_with_price_buckets.csv', index_col=[0])\n",
        "x_feat_list = ['distance_km', 'hours', 'precip_intensity', 'precip_probability', 'surge_multiplier', \n",
        "               'temp_fahren', 'weekday', 'ride_type_Lux', 'ride_type_Lux Black', 'ride_type_Lux Black XL', \n",
        "               'ride_type_Lyft', 'ride_type_Lyft XL', 'ride_type_Shared']\n",
        "y_feat = 'price_bucket'"
      ],
      "execution_count": null,
      "outputs": []
    },
    {
      "cell_type": "code",
      "metadata": {
        "id": "aoN8-jz97iG2"
      },
      "source": [
        "# Perfrom 10-fold cross validation on the Random Forest classifier\n",
        "rf_clf, y_true, y_pred = cross_validate_rf(df_lyft_buckets, x_feat_list, y_feat)"
      ],
      "execution_count": null,
      "outputs": []
    },
    {
      "cell_type": "code",
      "metadata": {
        "id": "DzEL_8--7iG2",
        "outputId": "e323e3d4-187a-4d35-d92f-385449b18f15"
      },
      "source": [
        "# Plot the confusion matrix\n",
        "plot_confusion_matrix(y_true, y_pred)"
      ],
      "execution_count": null,
      "outputs": [
        {
          "output_type": "display_data",
          "data": {
            "image/png": "[encoded data removed]",
            "text/plain": [
              "<Figure size 720x720 with 2 Axes>"
            ]
          },
          "metadata": {
            "tags": [],
            "needs_background": "light"
          }
        },
        {
          "output_type": "execute_result",
          "data": {
            "text/plain": [
              "array([[115635,   5147,   6791,      0],\n",
              "       [  5527,  52715,      6,   3216],\n",
              "       [  6173,      3,  73613,      0],\n",
              "       [     1,   3721,      0,  34860]])"
            ]
          },
          "metadata": {
            "tags": []
          },
          "execution_count": 44
        }
      ]
    },
    {
      "cell_type": "markdown",
      "metadata": {
        "id": "OAUexR5R7iG3"
      },
      "source": [
        "From the confusion matrix, the accuracy of predicting lyft price buckets from our feature list is 0.90 and no bucket is easier or more difficult to predict. This gives us confidence in our features and allows us to move forward with regression."
      ]
    },
    {
      "cell_type": "markdown",
      "metadata": {
        "id": "c9hLl_RS7iG3"
      },
      "source": [
        "#### Visualizing Feature Importance\n",
        "To gain some insight into the importance of each of the features in our dataset in predicting the price, we are visualizing the feature importances provided by our cross validated Random Forests Classifier."
      ]
    },
    {
      "cell_type": "code",
      "metadata": {
        "id": "oU8X69ni7iG3"
      },
      "source": [
        "# From HW07 starter code\n",
        "import seaborn as sns\n",
        "import matplotlib.pyplot as plt\n",
        "def visualize_feature_importances(x_feat_list, feat_importances):\n",
        "    '''\n",
        "    Visualize the a Random Forest classifier's feature importance list as a bar chart.\n",
        "    \n",
        "    Args:\n",
        "        x_feat_list (list): A list of features that were used in fitting the Random Forest\n",
        "            classfier whose feature importance list is to be visualized\n",
        "        feat_importances (numpy array): The feature importances of the features in \n",
        "            the given x_feat_list\n",
        "    '''\n",
        "    # Sort the features in descending order\n",
        "    idx = np.argsort(feat_importances).astype(int)\n",
        "    x_feat_list = [x_feat_list[_idx] for _idx in idx]\n",
        "    feat_importances = feat_importances[idx] \n",
        "    \n",
        "    # Plot the bar char\n",
        "    plt.barh(x_feat_list, feat_importances)\n",
        "    \n",
        "    # Plot config\n",
        "    plt.gcf().set_size_inches(10, len(x_feat_list) / 2)\n",
        "    plt.title('Feature importance of lyft ride data in predicting price bucket')\n",
        "    plt.xlabel('Feature importance')\n",
        "    plt.ylabel('Feature')"
      ],
      "execution_count": null,
      "outputs": []
    },
    {
      "cell_type": "code",
      "metadata": {
        "id": "i1ntv7ox7iG3"
      },
      "source": [
        "# Compute the feature importance\n",
        "rf_clf, feat_importances = feature_importance_from_rf(df_lyft_buckets, x_feat_list, y_feat)"
      ],
      "execution_count": null,
      "outputs": []
    },
    {
      "cell_type": "code",
      "metadata": {
        "id": "HqcDMuZq7iG4",
        "outputId": "fdbbd0a5-2dff-4087-9f04-c6020327e21e"
      },
      "source": [
        "# Plot the feature importance\n",
        "visualize_feature_importances(x_feat_list, feat_importances)"
      ],
      "execution_count": null,
      "outputs": [
        {
          "output_type": "display_data",
          "data": {
            "image/png": "[encoded data removed]",
            "text/plain": [
              "<Figure size 720x468 with 1 Axes>"
            ]
          },
          "metadata": {
            "tags": [],
            "needs_background": "light"
          }
        }
      ]
    },
    {
      "cell_type": "markdown",
      "metadata": {
        "id": "mF0Hjpa97iG4"
      },
      "source": [
        "From the above feature importance horizontal bar graph, weather indicators such as percipitation and temperature have little impact on a ride's price bucket as compared to the ride's duration, type and surge."
      ]
    },
    {
      "cell_type": "markdown",
      "metadata": {
        "id": "ccRf-0PL7iG4"
      },
      "source": [
        "### Predicting Price - Multivariable Polynomial Regression"
      ]
    },
    {
      "cell_type": "code",
      "metadata": {
        "id": "1lHhSFUx7iG4"
      },
      "source": [
        "from sklearn.preprocessing import PolynomialFeatures\n",
        "from sklearn.linear_model import LinearRegression\n",
        "from sklearn.model_selection import KFold\n",
        "from sklearn.metrics import r2_score\n",
        "\n",
        "def multi_poly_fit(df_lyft, x_feat_list, y_feat, degree=1):\n",
        "    '''\n",
        "    Perform multi variable polynomial regression of the given degree to predict the given \n",
        "    y_feat using the provided list of features. Then, perform  10 fold cross validation to \n",
        "    compute the R^2 of the model as a measure of its accuracy.\n",
        "    \n",
        "    Args:\n",
        "        df_lyft (DataFrame): A pandas df with the lyft ride data\n",
        "        x_feat_list (list): A list of features to be used to fit the regression model\n",
        "        y_feat (String): The column to predict\n",
        "        degree (number): The degree of polynomial regression to use\n",
        "    \n",
        "    Returns:\n",
        "        results (dictionary): The results containing the r2 of the cross validated\n",
        "            model, along with the intercept and coefficients of the fitted model\n",
        "    '''    \n",
        "    # Extract the x and y columns\n",
        "    x = df_lyft.loc[:, x_feat_list].values\n",
        "    y_true = df_lyft.loc[:, y_feat].values\n",
        "    \n",
        "    # Compute the polynomial features and fit the model\n",
        "    poly_feat = PolynomialFeatures(degree=degree, interaction_only=True)\n",
        "    x_poly = poly_feat.fit_transform(x)\n",
        "    reg = LinearRegression()\n",
        "    reg.fit(x_poly, y_true)\n",
        "    \n",
        "    # Extract the model intercept and coefficients\n",
        "    intercept = reg.intercept_\n",
        "    coefs = reg.coef_\n",
        "\n",
        "    # Perform 10 fold cross validation for the r2 value\n",
        "    y_pred = np.empty_like(y_true)\n",
        "    kf = KFold(n_splits=10)\n",
        "    \n",
        "    for fold_idx, (train_idx, test_idx) in enumerate(kf.split(x)):\n",
        "        # Extract the training and testing data\n",
        "        x_train, y_train = x[train_idx], y_true[train_idx]\n",
        "        x_test, y_test = x[test_idx], y_true[test_idx]\n",
        "\n",
        "        # Compute the polynomial features\n",
        "        poly_feat = PolynomialFeatures(degree=degree, interaction_only=True)\n",
        "        x_train_poly = poly_feat.fit_transform(x_train)\n",
        "\n",
        "        # Perform linear regression on the polynomial features\n",
        "        reg = LinearRegression()\n",
        "        reg.fit(x_train_poly, y_train)\n",
        "\n",
        "        # Predict the y values from the polynomial features\n",
        "        x_test_poly = poly_feat.fit_transform(x_test)\n",
        "        y_pred[test_idx] = reg.predict(x_test_poly)\n",
        "\n",
        "    # Compute and return the r2\n",
        "    r2 = r2_score(y_true=y_true, y_pred=y_pred)\n",
        "    \n",
        "    results = {\n",
        "        'r2': r2,\n",
        "        'intercept': intercept,\n",
        "        'coefs': coefs\n",
        "    }\n",
        "    \n",
        "    return results"
      ],
      "execution_count": null,
      "outputs": []
    },
    {
      "cell_type": "code",
      "metadata": {
        "scrolled": true,
        "id": "Xp1Z9cNu7iG4"
      },
      "source": [
        "# Load the cleaned lyft data into a dataframe\n",
        "df_lyft_reg = pd.read_csv('lyft_rides_numerical.csv', index_col=[0])\n",
        "\n",
        "# The feature list to train the model on \n",
        "x_feat_list = ['distance_km', 'hours', 'precip_intensity', 'precip_probability', 'surge_multiplier', \n",
        "               'temp_fahren', 'weekday', 'ride_type_Lux', 'ride_type_Lux Black', 'ride_type_Lux Black XL', \n",
        "               'ride_type_Lyft', 'ride_type_Lyft XL', 'ride_type_Shared']\n",
        "y_feat = 'price'\n",
        "\n",
        "# Perform multi variable polynomial regression for degrees 1 to 3\n",
        "reg_results_dict = {}\n",
        "for degree in range(1, 4):\n",
        "    results = multi_poly_fit(df_lyft_reg, x_feat_list, y_feat, degree=degree)\n",
        "    reg_results_dict[f'degree {degree}'] = results"
      ],
      "execution_count": null,
      "outputs": []
    },
    {
      "cell_type": "markdown",
      "metadata": {
        "id": "OS_r8Cwh7iG5"
      },
      "source": [
        "#### Displaying Results"
      ]
    },
    {
      "cell_type": "code",
      "metadata": {
        "id": "58Rc1dnN7iG5",
        "outputId": "980995bc-8b42-43f1-db03-085e194bc6d1"
      },
      "source": [
        "# Display the R^2s\n",
        "r2s = list(map(lambda kv: (kv[0], kv[1]['r2']), reg_results_dict.items()))\n",
        "print(r2s)"
      ],
      "execution_count": null,
      "outputs": [
        {
          "output_type": "stream",
          "text": [
            "[('degree 1', 0.9364495514262896), ('degree 2', 0.9720914958597229), ('degree 3', 0.972400506610129)]\n"
          ],
          "name": "stdout"
        }
      ]
    },
    {
      "cell_type": "markdown",
      "metadata": {
        "id": "zz_LwxIh7iG5"
      },
      "source": [
        "As seen above, there is no significant jump in R^2 between the different degrees of polynomial models, and hence the multivariable linear model can be chosen as an effective model for predicting the price. "
      ]
    },
    {
      "cell_type": "code",
      "metadata": {
        "id": "A4BFg_0Q7iG6",
        "outputId": "84d005b4-f30c-4624-9826-599186982881"
      },
      "source": [
        "# Display the equation for the degree 1 model\n",
        "print('Price = ')\n",
        "degree1_coefs = reg_results_dict['degree 1']['coefs']\n",
        "degree1_intercept = reg_results_dict['degree 1']['intercept']\n",
        "\n",
        "for idx, x_feat in enumerate(x_feat_list):\n",
        "    print(f'{degree1_coefs[idx + 1]:.2f} * {x_feat} + ')\n",
        "    \n",
        "print(f'{degree1_intercept:.2f}')"
      ],
      "execution_count": null,
      "outputs": [
        {
          "output_type": "stream",
          "text": [
            "Price = \n",
            "3.24 * distance_km + \n",
            "0.00 * hours + \n",
            "0.04 * precip_intensity + \n",
            "0.00 * precip_probability + \n",
            "18.19 * surge_multiplier + \n",
            "0.00 * temp_fahren + \n",
            "0.00 * weekday + \n",
            "0.31 * ride_type_Lux + \n",
            "5.60 * ride_type_Lux Black + \n",
            "14.87 * ride_type_Lux Black XL + \n",
            "-7.86 * ride_type_Lyft + \n",
            "-2.17 * ride_type_Lyft XL + \n",
            "-10.75 * ride_type_Shared + \n",
            "-8.52\n"
          ],
          "name": "stdout"
        }
      ]
    },
    {
      "cell_type": "markdown",
      "metadata": {
        "id": "incSL4xfElhZ"
      },
      "source": [
        "# Discussion\n",
        " \n",
        "To begin with, we used a random forest classifier to classify the significance of the input features and ensure that the accuracy of predicting lyft ride price buckets was significant enough.\n",
        " \n",
        "When predicting the accuracy of predicting lyft price buckets, we gained insight on the importance of each feature to predict price bucket. From most important to least important:\n",
        "- Distance in kilometers with a value of over 0.35. This result was expected where the further away a source is from its destination, the more expensive the trip.\n",
        "- Ride type shared (or not) with a value of about 0.17. Again, this feature importance is expected where price would decrease if a rider shares a lyft ride with another.\n",
        "- Car ride type (Lux Black XL, Lux Black, Lyft, Lyft XL, Lux) with values of about 0.07 and under. This is expected where a bigger lyft car size and/or a luxury vehicle would make price increase.\n",
        "- Surge multiplier with a value of about 0.06. This value was a bit surprising, as a surge multiplier is pretty much a price multiplier and would think to have more importance. We suspect that distance, a shared ride, and car ride type has even more of an impact on price than surge multiplier.\n",
        "- Temperature in fahrenheit with a value of about 0.025. The result was expected as we think temperature would have some sort of effect on price, but not as much as distance.\n",
        "- Hours, or time of day with a value of 0.02. The value was not expected, where many would think for example finding a lyft ride at midnight would be more expensive than midday.\n",
        "- Weekday, precipitation intensity, and precipitation probability with values less than 0.01. These results were unexpected where we would think weather and weekday would impact driver availability and rider demand and therefore affect price.\n",
        " \n",
        "We then cross-validated our classifier, in which our accuracy computed to be 0.9, in which proved to be of importance to go ahead with utilizing a multivariable polynomial regression.\n",
        " \n",
        "The regressions r-squared when put to the degree from 1 to 3 is above 0.93 and does not change much between the different degrees, meaning it is an effective model for predicting price and that at least 93% of the difference in price can be explained by the differences in the x features.\n",
        " \n",
        "According to the equation When taking into consideration all features to predict price, surge multiplier and car ride type Lux Black XL are the most expensive features. For distance, every 1 kilometer traveled caused a price increase of 3.24. Having a ride shared caused the most decrease of price. Hours, weekday, temperature, and precipitation had little to no effect on price.\n",
        " \n",
        "Overall, temperature, weather, weekday, and hours played little role on price than we initially thought which was unexpected. Ride type and distance made the biggest effect which was not surprising, but disappointing as these features seemed already obvious to most people. \n",
        " \n",
        "## Takeaway\n",
        " \n",
        "After we conducted our analysis, and reached the conclusion that ride type and distance made more impact on price than any other features which we are confident about, we could additionally in the future find other features that could possibly have importance on the price, such as location. We could have built a more reliable and accurate pipeline with given time and resources, and would not have to rely on the Kaggle dataset that limited our scope of analysis and possibility affected the importance of some features like weather.\n"
      ]
    }
  ]
}